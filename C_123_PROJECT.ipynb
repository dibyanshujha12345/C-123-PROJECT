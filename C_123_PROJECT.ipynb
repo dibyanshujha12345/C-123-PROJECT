{
  "nbformat": 4,
  "nbformat_minor": 0,
  "metadata": {
    "colab": {
      "provenance": [],
      "authorship_tag": "ABX9TyOyXzX6hiOH728SGQ7ynmF0",
      "include_colab_link": true
    },
    "kernelspec": {
      "name": "python3",
      "display_name": "Python 3"
    },
    "language_info": {
      "name": "python"
    }
  },
  "cells": [
    {
      "cell_type": "markdown",
      "metadata": {
        "id": "view-in-github",
        "colab_type": "text"
      },
      "source": [
        "<a href=\"https://colab.research.google.com/github/dibyanshujha12345/C-123-PROJECT/blob/main/C_123_PROJECT.ipynb\" target=\"_parent\"><img src=\"https://colab.research.google.com/assets/colab-badge.svg\" alt=\"Open In Colab\"/></a>"
      ]
    },
    {
      "cell_type": "code",
      "execution_count": null,
      "metadata": {
        "id": "nAUiYzvjF55S"
      },
      "outputs": [],
      "source": [
        "import pandas as pd\n",
        "import cv2\n",
        "import numpy as np\n",
        "import seaborn as sns\n",
        "import matplotlib.pyplot as plt\n",
        "from sklearn.datasets import fetch_openml\n",
        "from sklearn.model_selection import train_test_split\n",
        "from sklearn.linear_model import LogisticRegression\n",
        "from sklearn.metrics import accuracy_score"
      ]
    },
    {
      "cell_type": "code",
      "source": [
        "x=np.load('image.npz')['arr_0']\n",
        "y=pd.read_csv(\"labels.csv\")[\"labels\"]\n",
        "print(pd.Series(y).value_counts())\n",
        "classes=['A','B','C','D','E','F','G','H','I','J','K','L','M','N','O','P','Q','R','S','T','U','V','W','X','Y','Z']\n",
        "nclasses=len(classes)\n",
        "print(nclasses)"
      ],
      "metadata": {
        "colab": {
          "base_uri": "https://localhost:8080/"
        },
        "id": "T-L9g_6qGkqA",
        "outputId": "3cd2d3b2-8e57-4c42-cb83-a37301b05ec8"
      },
      "execution_count": null,
      "outputs": [
        {
          "output_type": "stream",
          "name": "stdout",
          "text": [
            "F    550\n",
            "Z    550\n",
            "M    550\n",
            "E    550\n",
            "H    550\n",
            "P    550\n",
            "B    550\n",
            "J    550\n",
            "O    550\n",
            "W    550\n",
            "C    550\n",
            "A    550\n",
            "V    550\n",
            "Y    550\n",
            "X    550\n",
            "K    550\n",
            "T    550\n",
            "L    550\n",
            "N    550\n",
            "G    550\n",
            "R    550\n",
            "I    550\n",
            "S    550\n",
            "Q    550\n",
            "U    550\n",
            "D    550\n",
            "Name: labels, dtype: int64\n",
            "26\n"
          ]
        }
      ]
    },
    {
      "cell_type": "code",
      "source": [
        "import cv2\n",
        "import numpy as np\n",
        "import pandas as pd\n",
        "import seaborn as sns\n",
        "import matplotlib.pyplot as plt\n",
        "from sklearn.datasets import fetch_openml\n",
        "from sklearn.model_selection import train_test_split\n",
        "from sklearn.linear_model import LogisticRegression\n",
        "from sklearn.metrics import accuracy_score\n",
        "from PIL import Image\n",
        "import PIL.ImageOps\n",
        "import os, ssl, time\n",
        "\n",
        "#Setting an HTTPS Context to fetch data from OpenML\n",
        "if (not os.environ.get('PYTHONHTTPSVERIFY', '') and\n",
        "    getattr(ssl, '_create_unverified_context', None)): \n",
        "    ssl._create_default_https_context = ssl._create_unverified_context\n",
        "\n",
        "#Fetching the data\n",
        "x=np.load('image.npz')['arr_0']\n",
        "y=pd.read_csv(\"labels.csv\")[\"labels\"]\n",
        "print(pd.Series(y).value_counts())\n",
        "classes=['A','B','C','D','E','F','G','H','I','J','K','L','M','N','O','P','Q','R','S','T','U','V','W','X','Y','Z']\n",
        "nclasses=len(classes)\n",
        "\n",
        "#Splitting the data and scaling it\n",
        "X_train, X_test, y_train, y_test = train_test_split(X, y, random_state=9, train_size=7500, test_size=2500)\n",
        "#scaling the features\n",
        "X_train_scaled = X_train/255.0\n",
        "X_test_scaled = X_test/255.0\n",
        "\n",
        "#Fitting the training data into the model\n",
        "clf = LogisticRegression(solver='saga', multi_class='multinomial').fit(X_train_scaled, y_train)\n",
        "\n",
        "#Calculating the accuracy of the model\n",
        "y_pred = clf.predict(X_test_scaled)\n",
        "accuracy = accuracy_score(y_test, y_pred)\n",
        "print(\"The accuracy is :- \",accuracy)\n",
        "\n",
        "#Starting the camera\n",
        "cap = cv2.VideoCapture(0)\n",
        "\n",
        "while(True):\n",
        "  # Capture frame-by-frame\n",
        "  try:\n",
        "    ret, frame = cap.read()\n",
        "\n",
        "    # Our operations on the frame come here\n",
        "    gray = cv2.cvtColor(frame, cv2.COLOR_BGR2GRAY)\n",
        "    \n",
        "    #Drawing a box in the center of the video\n",
        "    height, width = gray.shape\n",
        "    upper_left = (int(width / 2 - 56), int(height / 2 - 56))\n",
        "    bottom_right = (int(width / 2 + 56), int(height / 2 + 56))\n",
        "    cv2.rectangle(gray, upper_left, bottom_right, (0, 255, 0), 2)\n",
        "\n",
        "    #To only consider the area inside the box for detecting the digit\n",
        "    #roi = Region Of Interest\n",
        "    roi = gray[upper_left[1]:bottom_right[1], upper_left[0]:bottom_right[0]]\n",
        "\n",
        "    #Converting cv2 image to pil format\n",
        "    im_pil = Image.fromarray(roi)\n",
        "\n",
        "    # convert to grayscale image - 'L' format means each pixel is \n",
        "    # represented by a single value from 0 to 255\n",
        "    image_bw = im_pil.convert('L')\n",
        "    image_bw_resized = image_bw.resize((28,28), Image.ANTIALIAS)\n",
        "\n",
        "    image_bw_resized_inverted = PIL.ImageOps.invert(image_bw_resized)\n",
        "    pixel_filter = 20\n",
        "    min_pixel = np.percentile(image_bw_resized_inverted, pixel_filter)\n",
        "    image_bw_resized_inverted_scaled = np.clip(image_bw_resized_inverted-min_pixel, 0, 255)\n",
        "    max_pixel = np.max(image_bw_resized_inverted)\n",
        "    image_bw_resized_inverted_scaled = np.asarray(image_bw_resized_inverted_scaled)/max_pixel\n",
        "    test_sample = np.array(image_bw_resized_inverted_scaled).reshape(1,784)\n",
        "    test_pred = clf.predict(test_sample)\n",
        "    print(\"Predicted class is: \", test_pred)\n",
        "\n",
        "    # Display the resulting frame\n",
        "    cv2.imshow('frame',gray)\n",
        "    if cv2.waitKey(1) & 0xFF == ord('q'):\n",
        "      break\n",
        "  except Exception as e:\n",
        "    pass\n",
        "\n",
        "# When everything done, release the capture\n",
        "cap.release()\n",
        "cv2.destroyAllWindows()\n",
        "Footer\n"
      ],
      "metadata": {
        "colab": {
          "base_uri": "https://localhost:8080/"
        },
        "id": "pRLK3e06G98A",
        "outputId": "065ea0a7-bd59-49e2-9495-742da97c4ab7"
      },
      "execution_count": null,
      "outputs": [
        {
          "metadata": {
            "tags": null
          },
          "name": "stdout",
          "output_type": "stream",
          "text": [
            "1    7877\n",
            "7    7293\n",
            "3    7141\n",
            "2    6990\n",
            "9    6958\n",
            "0    6903\n",
            "6    6876\n",
            "8    6825\n",
            "4    6824\n",
            "5    6313\n",
            "Name: class, dtype: int64\n"
          ]
        },
        {
          "metadata": {
            "tags": null
          },
          "name": "stderr",
          "output_type": "stream",
          "text": [
            "/usr/local/lib/python3.7/dist-packages/sklearn/linear_model/_sag.py:354: ConvergenceWarning: The max_iter was reached which means the coef_ did not converge\n",
            "  ConvergenceWarning,\n"
          ]
        },
        {
          "metadata": {
            "tags": null
          },
          "name": "stdout",
          "output_type": "stream",
          "text": [
            "The accuracy is :-  0.9008\n"
          ]
        }
      ]
    }
  ]
}